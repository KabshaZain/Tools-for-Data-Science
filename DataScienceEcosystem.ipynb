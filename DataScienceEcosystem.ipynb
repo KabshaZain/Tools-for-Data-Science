{
  "nbformat": 4,
  "nbformat_minor": 0,
  "metadata": {
    "colab": {
      "provenance": [],
      "authorship_tag": "ABX9TyNplCw0sj675A8Ud7l1WoCT",
      "include_colab_link": true
    },
    "kernelspec": {
      "name": "python3",
      "display_name": "Python 3"
    },
    "language_info": {
      "name": "python"
    }
  },
  "cells": [
    {
      "cell_type": "markdown",
      "metadata": {
        "id": "view-in-github",
        "colab_type": "text"
      },
      "source": [
        "<a href=\"https://colab.research.google.com/github/KabshaZain/Tools-for-Data-Science/blob/main/DataScienceEcosystem.ipynb\" target=\"_parent\"><img src=\"https://colab.research.google.com/assets/colab-badge.svg\" alt=\"Open In Colab\"/></a>"
      ]
    },
    {
      "cell_type": "markdown",
      "source": [
        "# Data Science Tools and Ecosystem\n"
      ],
      "metadata": {
        "id": "M4N81b1zabJ_"
      }
    },
    {
      "cell_type": "markdown",
      "source": [
        "In this notebook, Data Science Tools and Ecosystem are summarized."
      ],
      "metadata": {
        "id": "rrIQpJwebIk-"
      }
    },
    {
      "cell_type": "markdown",
      "source": [
        "**Objectives:**\n",
        "\n",
        "*   List popular languages for Data Science\n",
        "*   List popular libraries for Data Science\n",
        "*   List Data Science Tools\n",
        "*   List a few examples of evaluating arithmetic expressions in Python\n",
        "\n",
        "\n"
      ],
      "metadata": {
        "id": "CkUmoWuYhQnZ"
      }
    },
    {
      "cell_type": "markdown",
      "source": [
        "Some of the popular languages that Data Scientists use are:\n",
        "\n",
        "\n",
        "1.   Python\n",
        "2.   R\n",
        "3.   SQL\n",
        "\n",
        "\n"
      ],
      "metadata": {
        "id": "g7ztpNoRbcgw"
      }
    },
    {
      "cell_type": "markdown",
      "source": [
        "Some of the commonly used libraries used by Data Scientists include:\n",
        "\n",
        "\n",
        "1.   NumPy\n",
        "2.   SciPy\n",
        "3.   Pandas"
      ],
      "metadata": {
        "id": "IwKWEMw9cEEM"
      }
    },
    {
      "cell_type": "markdown",
      "source": [
        "```markdown\n",
        "Data Science Tools |\n",
        "-------------------|\n",
        "TensorFlow         |\n",
        "Jupyter Notebook   |\n",
        "Apache Spark       |     \n",
        "KNIME              |\n",
        "```"
      ],
      "metadata": {
        "id": "5bSguMXUdkzT"
      }
    },
    {
      "cell_type": "markdown",
      "source": [
        "### Below are a few examples of evaluating arithmetic expressions in Python"
      ],
      "metadata": {
        "id": "kPdffFpRe64G"
      }
    },
    {
      "cell_type": "code",
      "source": [
        "#This a simple arithmetic expression to mutiply then add integers#\n",
        "(3*4)+5"
      ],
      "metadata": {
        "colab": {
          "base_uri": "https://localhost:8080/"
        },
        "id": "4l6CdHhZfSr4",
        "outputId": "e48735c2-ec7b-40a8-e26a-7ff93163c2fd"
      },
      "execution_count": null,
      "outputs": [
        {
          "output_type": "execute_result",
          "data": {
            "text/plain": [
              "17"
            ]
          },
          "metadata": {},
          "execution_count": 1
        }
      ]
    },
    {
      "cell_type": "code",
      "source": [
        "#This will convert 200 minutes to hours by diving by 60#\n",
        "def convert_to_hours(minutes):\n",
        "    hour = minutes / 60\n",
        "     \n",
        "    return (hour)\n",
        "     \n",
        "# Driver program\n",
        "n = 200\n",
        "print(convert_to_hours(n))"
      ],
      "metadata": {
        "colab": {
          "base_uri": "https://localhost:8080/"
        },
        "id": "3Pi56G42ftf_",
        "outputId": "559a73bc-94a5-4014-c658-01cb975bd09f"
      },
      "execution_count": null,
      "outputs": [
        {
          "output_type": "stream",
          "name": "stdout",
          "text": [
            "3.3333333333333335\n"
          ]
        }
      ]
    },
    {
      "cell_type": "markdown",
      "source": [
        "## Author\n",
        "Kabsha Zain"
      ],
      "metadata": {
        "id": "BLnfDzJ0iRTU"
      }
    }
  ]
}